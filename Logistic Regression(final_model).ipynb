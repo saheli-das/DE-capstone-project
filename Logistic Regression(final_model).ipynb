{
 "cells": [
  {
   "cell_type": "markdown",
   "id": "b9b12aa9-05f0-4eb6-80e1-f6676324f391",
   "metadata": {},
   "source": [
    "## 1. Import Packages:"
   ]
  },
  {
   "cell_type": "code",
   "execution_count": 1,
   "id": "43eda384-7def-4310-b4a8-98ef222aeb4b",
   "metadata": {},
   "outputs": [],
   "source": [
    "import pandas as pd\n",
    "import numpy as np\n",
    "import matplotlib.pyplot as plt\n",
    "import seaborn as sns\n",
    "from scipy.stats import skew\n",
    "from sklearn.preprocessing import OneHotEncoder, OrdinalEncoder, StandardScaler\n",
    "from sklearn.compose import ColumnTransformer\n",
    "from sklearn.model_selection import train_test_split, RandomizedSearchCV, cross_val_score\n",
    "from sklearn.linear_model import LogisticRegression\n",
    "from imblearn.over_sampling import SMOTE\n",
    "from imblearn.under_sampling import RandomUnderSampler\n",
    "from imblearn.over_sampling import RandomOverSampler\n",
    "from imblearn.pipeline import Pipeline\n",
    "from sklearn.metrics import accuracy_score, confusion_matrix, classification_report, roc_curve, roc_auc_score, precision_recall_curve, auc\n",
    "import pickle\n",
    "from imblearn.pipeline import Pipeline as ImbPipeline\n",
    "from sklearn import set_config"
   ]
  },
  {
   "cell_type": "markdown",
   "id": "73a0445e-94a9-48e5-89e4-353490a406bb",
   "metadata": {},
   "source": [
    "## 2. Import data:"
   ]
  },
  {
   "cell_type": "code",
   "execution_count": 2,
   "id": "1bef9353-4f94-4d93-b1b1-8bcf40d431ca",
   "metadata": {},
   "outputs": [],
   "source": [
    "from sqlalchemy import create_engine\n",
    "\n",
    "# Define connection parameters\n",
    "server = r'DESKTOP-CBADVFM\\SQLEXPRESS'  # Use raw string or double backslashes\n",
    "database = 'DE_CAPSTONE_PROJECT'        # Database name without brackets\n",
    "\n",
    "# Create connection string for Windows Authentication\n",
    "connection_string = f'mssql+pyodbc://{server}/{database}?trusted_connection=yes&driver=SQL+Server'\n",
    "\n",
    "# Create engine\n",
    "engine = create_engine(connection_string)"
   ]
  },
  {
   "cell_type": "code",
   "execution_count": 3,
   "id": "0516285d-b624-4acd-8695-857ee9e9f1b7",
   "metadata": {},
   "outputs": [
    {
     "data": {
      "text/html": [
       "<div>\n",
       "<style scoped>\n",
       "    .dataframe tbody tr th:only-of-type {\n",
       "        vertical-align: middle;\n",
       "    }\n",
       "\n",
       "    .dataframe tbody tr th {\n",
       "        vertical-align: top;\n",
       "    }\n",
       "\n",
       "    .dataframe thead th {\n",
       "        text-align: right;\n",
       "    }\n",
       "</style>\n",
       "<table border=\"1\" class=\"dataframe\">\n",
       "  <thead>\n",
       "    <tr style=\"text-align: right;\">\n",
       "      <th></th>\n",
       "      <th>emp_no</th>\n",
       "      <th>first_name</th>\n",
       "      <th>last_name</th>\n",
       "      <th>birth_date</th>\n",
       "      <th>sex</th>\n",
       "      <th>emp_title_id</th>\n",
       "      <th>title</th>\n",
       "      <th>salary</th>\n",
       "      <th>no_of_departments</th>\n",
       "      <th>dept_nos</th>\n",
       "      <th>dept_names</th>\n",
       "      <th>hire_date</th>\n",
       "      <th>no_of_projects</th>\n",
       "      <th>Last_performance_rating</th>\n",
       "      <th>left</th>\n",
       "      <th>last_date</th>\n",
       "    </tr>\n",
       "  </thead>\n",
       "  <tbody>\n",
       "    <tr>\n",
       "      <th>234027</th>\n",
       "      <td>247385</td>\n",
       "      <td>Francoise</td>\n",
       "      <td>Uchoa</td>\n",
       "      <td>1959-08-20</td>\n",
       "      <td>M</td>\n",
       "      <td>e0003</td>\n",
       "      <td>Senior Engineer</td>\n",
       "      <td>41183.0</td>\n",
       "      <td>1</td>\n",
       "      <td>d005</td>\n",
       "      <td>development</td>\n",
       "      <td>1990-12-02</td>\n",
       "      <td>4</td>\n",
       "      <td>C</td>\n",
       "      <td>False</td>\n",
       "      <td>NaT</td>\n",
       "    </tr>\n",
       "    <tr>\n",
       "      <th>43812</th>\n",
       "      <td>438120</td>\n",
       "      <td>Kazuhisa</td>\n",
       "      <td>Swen</td>\n",
       "      <td>1956-02-14</td>\n",
       "      <td>M</td>\n",
       "      <td>e0004</td>\n",
       "      <td>Technique Leader</td>\n",
       "      <td>51728.0</td>\n",
       "      <td>1</td>\n",
       "      <td>d005</td>\n",
       "      <td>development</td>\n",
       "      <td>1985-04-04</td>\n",
       "      <td>3</td>\n",
       "      <td>B</td>\n",
       "      <td>False</td>\n",
       "      <td>NaT</td>\n",
       "    </tr>\n",
       "    <tr>\n",
       "      <th>154558</th>\n",
       "      <td>92679</td>\n",
       "      <td>Sajjan</td>\n",
       "      <td>Dayang</td>\n",
       "      <td>1964-08-27</td>\n",
       "      <td>F</td>\n",
       "      <td>s0001</td>\n",
       "      <td>Staff</td>\n",
       "      <td>73635.0</td>\n",
       "      <td>1</td>\n",
       "      <td>d007</td>\n",
       "      <td>Sales</td>\n",
       "      <td>1992-09-04</td>\n",
       "      <td>8</td>\n",
       "      <td>C</td>\n",
       "      <td>False</td>\n",
       "      <td>NaT</td>\n",
       "    </tr>\n",
       "    <tr>\n",
       "      <th>260384</th>\n",
       "      <td>271346</td>\n",
       "      <td>Shigeaki</td>\n",
       "      <td>Jiang</td>\n",
       "      <td>1956-02-10</td>\n",
       "      <td>F</td>\n",
       "      <td>s0001</td>\n",
       "      <td>Staff</td>\n",
       "      <td>40000.0</td>\n",
       "      <td>1</td>\n",
       "      <td>d009</td>\n",
       "      <td>Customer Service</td>\n",
       "      <td>1998-04-02</td>\n",
       "      <td>5</td>\n",
       "      <td>B</td>\n",
       "      <td>False</td>\n",
       "      <td>NaT</td>\n",
       "    </tr>\n",
       "    <tr>\n",
       "      <th>142168</th>\n",
       "      <td>80289</td>\n",
       "      <td>Nahum</td>\n",
       "      <td>Pell</td>\n",
       "      <td>1958-07-04</td>\n",
       "      <td>F</td>\n",
       "      <td>e0003</td>\n",
       "      <td>Senior Engineer</td>\n",
       "      <td>54927.0</td>\n",
       "      <td>1</td>\n",
       "      <td>d005</td>\n",
       "      <td>development</td>\n",
       "      <td>1990-01-26</td>\n",
       "      <td>3</td>\n",
       "      <td>C</td>\n",
       "      <td>False</td>\n",
       "      <td>NaT</td>\n",
       "    </tr>\n",
       "  </tbody>\n",
       "</table>\n",
       "</div>"
      ],
      "text/plain": [
       "        emp_no first_name last_name birth_date sex emp_title_id  \\\n",
       "234027  247385  Francoise     Uchoa 1959-08-20   M        e0003   \n",
       "43812   438120   Kazuhisa      Swen 1956-02-14   M        e0004   \n",
       "154558   92679     Sajjan    Dayang 1964-08-27   F        s0001   \n",
       "260384  271346   Shigeaki     Jiang 1956-02-10   F        s0001   \n",
       "142168   80289      Nahum      Pell 1958-07-04   F        e0003   \n",
       "\n",
       "                   title   salary  no_of_departments dept_nos  \\\n",
       "234027   Senior Engineer  41183.0                  1     d005   \n",
       "43812   Technique Leader  51728.0                  1     d005   \n",
       "154558             Staff  73635.0                  1     d007   \n",
       "260384             Staff  40000.0                  1     d009   \n",
       "142168   Senior Engineer  54927.0                  1     d005   \n",
       "\n",
       "              dept_names  hire_date  no_of_projects Last_performance_rating  \\\n",
       "234027       development 1990-12-02               4                       C   \n",
       "43812        development 1985-04-04               3                       B   \n",
       "154558             Sales 1992-09-04               8                       C   \n",
       "260384  Customer Service 1998-04-02               5                       B   \n",
       "142168       development 1990-01-26               3                       C   \n",
       "\n",
       "         left last_date  \n",
       "234027  False       NaT  \n",
       "43812   False       NaT  \n",
       "154558  False       NaT  \n",
       "260384  False       NaT  \n",
       "142168  False       NaT  "
      ]
     },
     "execution_count": 3,
     "metadata": {},
     "output_type": "execute_result"
    }
   ],
   "source": [
    "final_table = pd.read_sql('select * from [dbo].[final_table]',engine,parse_dates=['hire_date','birth_date','last_date'])\n",
    "final_table.sample(5)"
   ]
  },
  {
   "cell_type": "markdown",
   "id": "9db84c21-e1c4-4e0c-a139-5c2b9f835837",
   "metadata": {},
   "source": [
    "## 3. EDA:"
   ]
  },
  {
   "cell_type": "code",
   "execution_count": 6,
   "id": "226f1884-3af0-4829-82c4-c13d936f480b",
   "metadata": {},
   "outputs": [
    {
     "name": "stdout",
     "output_type": "stream",
     "text": [
      "<class 'pandas.core.frame.DataFrame'>\n",
      "RangeIndex: 300024 entries, 0 to 300023\n",
      "Data columns (total 16 columns):\n",
      " #   Column                   Non-Null Count   Dtype         \n",
      "---  ------                   --------------   -----         \n",
      " 0   emp_no                   300024 non-null  object        \n",
      " 1   first_name               300024 non-null  object        \n",
      " 2   last_name                300024 non-null  object        \n",
      " 3   birth_date               300024 non-null  datetime64[ns]\n",
      " 4   sex                      300024 non-null  object        \n",
      " 5   emp_title_id             300024 non-null  object        \n",
      " 6   title                    300024 non-null  object        \n",
      " 7   salary                   300024 non-null  float64       \n",
      " 8   no_of_departments        300024 non-null  int64         \n",
      " 9   dept_nos                 300024 non-null  object        \n",
      " 10  dept_names               300024 non-null  object        \n",
      " 11  hire_date                300024 non-null  datetime64[ns]\n",
      " 12  no_of_projects           300024 non-null  int64         \n",
      " 13  Last_performance_rating  300024 non-null  object        \n",
      " 14  left                     300024 non-null  bool          \n",
      " 15  last_date                29867 non-null   datetime64[ns]\n",
      "dtypes: bool(1), datetime64[ns](3), float64(1), int64(2), object(9)\n",
      "memory usage: 34.6+ MB\n"
     ]
    }
   ],
   "source": [
    "final_table.info()"
   ]
  },
  {
   "cell_type": "code",
   "execution_count": 9,
   "id": "a45b21d4-1d95-4751-9d6f-02a08d6a29d2",
   "metadata": {},
   "outputs": [
    {
     "data": {
      "text/plain": [
       "Timestamp('2013-03-10 00:00:00')"
      ]
     },
     "execution_count": 9,
     "metadata": {},
     "output_type": "execute_result"
    }
   ],
   "source": [
    "max_last_date =pd.to_datetime(final_table['last_date']).max()\n",
    "max_last_date"
   ]
  },
  {
   "cell_type": "code",
   "execution_count": 11,
   "id": "5af5cbd7-7a5d-4bd3-8047-c673c7990baf",
   "metadata": {},
   "outputs": [
    {
     "data": {
      "text/html": [
       "<div>\n",
       "<style scoped>\n",
       "    .dataframe tbody tr th:only-of-type {\n",
       "        vertical-align: middle;\n",
       "    }\n",
       "\n",
       "    .dataframe tbody tr th {\n",
       "        vertical-align: top;\n",
       "    }\n",
       "\n",
       "    .dataframe thead th {\n",
       "        text-align: right;\n",
       "    }\n",
       "</style>\n",
       "<table border=\"1\" class=\"dataframe\">\n",
       "  <thead>\n",
       "    <tr style=\"text-align: right;\">\n",
       "      <th></th>\n",
       "      <th>emp_no</th>\n",
       "      <th>first_name</th>\n",
       "      <th>last_name</th>\n",
       "      <th>birth_date</th>\n",
       "      <th>sex</th>\n",
       "      <th>emp_title_id</th>\n",
       "      <th>title</th>\n",
       "      <th>salary</th>\n",
       "      <th>no_of_departments</th>\n",
       "      <th>dept_nos</th>\n",
       "      <th>dept_names</th>\n",
       "      <th>hire_date</th>\n",
       "      <th>no_of_projects</th>\n",
       "      <th>Last_performance_rating</th>\n",
       "      <th>left</th>\n",
       "      <th>last_date</th>\n",
       "      <th>tenure</th>\n",
       "    </tr>\n",
       "  </thead>\n",
       "  <tbody>\n",
       "    <tr>\n",
       "      <th>273834</th>\n",
       "      <td>283573</td>\n",
       "      <td>Martine</td>\n",
       "      <td>Flanders</td>\n",
       "      <td>1952-11-11</td>\n",
       "      <td>M</td>\n",
       "      <td>s0002</td>\n",
       "      <td>Senior Staff</td>\n",
       "      <td>44052.0</td>\n",
       "      <td>2</td>\n",
       "      <td>d007, d009</td>\n",
       "      <td>Sales, Customer Service</td>\n",
       "      <td>1992-11-14</td>\n",
       "      <td>5</td>\n",
       "      <td>C</td>\n",
       "      <td>False</td>\n",
       "      <td>NaT</td>\n",
       "      <td>20.331507</td>\n",
       "    </tr>\n",
       "    <tr>\n",
       "      <th>90662</th>\n",
       "      <td>480711</td>\n",
       "      <td>Srinidhi</td>\n",
       "      <td>Assaf</td>\n",
       "      <td>1954-04-21</td>\n",
       "      <td>M</td>\n",
       "      <td>s0001</td>\n",
       "      <td>Staff</td>\n",
       "      <td>83125.0</td>\n",
       "      <td>1</td>\n",
       "      <td>d007</td>\n",
       "      <td>Sales</td>\n",
       "      <td>1988-02-07</td>\n",
       "      <td>10</td>\n",
       "      <td>S</td>\n",
       "      <td>False</td>\n",
       "      <td>NaT</td>\n",
       "      <td>25.104110</td>\n",
       "    </tr>\n",
       "    <tr>\n",
       "      <th>32509</th>\n",
       "      <td>427845</td>\n",
       "      <td>Franziska</td>\n",
       "      <td>Murillo</td>\n",
       "      <td>1955-04-19</td>\n",
       "      <td>M</td>\n",
       "      <td>e0002</td>\n",
       "      <td>Engineer</td>\n",
       "      <td>48972.0</td>\n",
       "      <td>1</td>\n",
       "      <td>d005</td>\n",
       "      <td>development</td>\n",
       "      <td>1985-04-30</td>\n",
       "      <td>9</td>\n",
       "      <td>C</td>\n",
       "      <td>False</td>\n",
       "      <td>NaT</td>\n",
       "      <td>27.879452</td>\n",
       "    </tr>\n",
       "    <tr>\n",
       "      <th>272205</th>\n",
       "      <td>282092</td>\n",
       "      <td>Masasuke</td>\n",
       "      <td>Pehl</td>\n",
       "      <td>1954-06-16</td>\n",
       "      <td>M</td>\n",
       "      <td>e0003</td>\n",
       "      <td>Senior Engineer</td>\n",
       "      <td>60334.0</td>\n",
       "      <td>1</td>\n",
       "      <td>d005</td>\n",
       "      <td>development</td>\n",
       "      <td>1988-05-14</td>\n",
       "      <td>9</td>\n",
       "      <td>B</td>\n",
       "      <td>False</td>\n",
       "      <td>NaT</td>\n",
       "      <td>24.838356</td>\n",
       "    </tr>\n",
       "    <tr>\n",
       "      <th>259186</th>\n",
       "      <td>270257</td>\n",
       "      <td>Jaewoo</td>\n",
       "      <td>Kirkerud</td>\n",
       "      <td>1960-01-18</td>\n",
       "      <td>M</td>\n",
       "      <td>s0002</td>\n",
       "      <td>Senior Staff</td>\n",
       "      <td>40000.0</td>\n",
       "      <td>1</td>\n",
       "      <td>d009</td>\n",
       "      <td>Customer Service</td>\n",
       "      <td>1991-06-13</td>\n",
       "      <td>6</td>\n",
       "      <td>PIP</td>\n",
       "      <td>False</td>\n",
       "      <td>NaT</td>\n",
       "      <td>21.756164</td>\n",
       "    </tr>\n",
       "  </tbody>\n",
       "</table>\n",
       "</div>"
      ],
      "text/plain": [
       "        emp_no first_name last_name birth_date sex emp_title_id  \\\n",
       "273834  283573    Martine  Flanders 1952-11-11   M        s0002   \n",
       "90662   480711   Srinidhi     Assaf 1954-04-21   M        s0001   \n",
       "32509   427845  Franziska   Murillo 1955-04-19   M        e0002   \n",
       "272205  282092   Masasuke      Pehl 1954-06-16   M        e0003   \n",
       "259186  270257     Jaewoo  Kirkerud 1960-01-18   M        s0002   \n",
       "\n",
       "                  title   salary  no_of_departments    dept_nos  \\\n",
       "273834     Senior Staff  44052.0                  2  d007, d009   \n",
       "90662             Staff  83125.0                  1        d007   \n",
       "32509          Engineer  48972.0                  1        d005   \n",
       "272205  Senior Engineer  60334.0                  1        d005   \n",
       "259186     Senior Staff  40000.0                  1        d009   \n",
       "\n",
       "                     dept_names  hire_date  no_of_projects  \\\n",
       "273834  Sales, Customer Service 1992-11-14               5   \n",
       "90662                     Sales 1988-02-07              10   \n",
       "32509               development 1985-04-30               9   \n",
       "272205              development 1988-05-14               9   \n",
       "259186         Customer Service 1991-06-13               6   \n",
       "\n",
       "       Last_performance_rating   left last_date     tenure  \n",
       "273834                       C  False       NaT  20.331507  \n",
       "90662                        S  False       NaT  25.104110  \n",
       "32509                        C  False       NaT  27.879452  \n",
       "272205                       B  False       NaT  24.838356  \n",
       "259186                     PIP  False       NaT  21.756164  "
      ]
     },
     "execution_count": 11,
     "metadata": {},
     "output_type": "execute_result"
    }
   ],
   "source": [
    "final_table['hire_date'] = pd.to_datetime(final_table['hire_date'])\n",
    "final_table['last_date'] = pd.to_datetime(final_table['last_date'])\n",
    "\n",
    "final_table['tenure'] = final_table['tenure'] = (\n",
    "    (final_table['last_date'].fillna(max_last_date) - final_table['hire_date']).dt.days / 365\n",
    ")\n",
    "final_table.sample(5)"
   ]
  },
  {
   "cell_type": "code",
   "execution_count": 13,
   "id": "26c95b6f-7d79-42e9-94f7-a5d162fd9d91",
   "metadata": {},
   "outputs": [
    {
     "data": {
      "text/html": [
       "<div>\n",
       "<style scoped>\n",
       "    .dataframe tbody tr th:only-of-type {\n",
       "        vertical-align: middle;\n",
       "    }\n",
       "\n",
       "    .dataframe tbody tr th {\n",
       "        vertical-align: top;\n",
       "    }\n",
       "\n",
       "    .dataframe thead th {\n",
       "        text-align: right;\n",
       "    }\n",
       "</style>\n",
       "<table border=\"1\" class=\"dataframe\">\n",
       "  <thead>\n",
       "    <tr style=\"text-align: right;\">\n",
       "      <th></th>\n",
       "      <th>emp_no</th>\n",
       "      <th>first_name</th>\n",
       "      <th>last_name</th>\n",
       "      <th>birth_date</th>\n",
       "      <th>sex</th>\n",
       "      <th>emp_title_id</th>\n",
       "      <th>title</th>\n",
       "      <th>salary</th>\n",
       "      <th>no_of_departments</th>\n",
       "      <th>dept_nos</th>\n",
       "      <th>dept_names</th>\n",
       "      <th>hire_date</th>\n",
       "      <th>no_of_projects</th>\n",
       "      <th>Last_performance_rating</th>\n",
       "      <th>left</th>\n",
       "      <th>last_date</th>\n",
       "      <th>tenure</th>\n",
       "      <th>age</th>\n",
       "    </tr>\n",
       "  </thead>\n",
       "  <tbody>\n",
       "    <tr>\n",
       "      <th>112074</th>\n",
       "      <td>50195</td>\n",
       "      <td>Zongyan</td>\n",
       "      <td>Waymire</td>\n",
       "      <td>1958-07-07</td>\n",
       "      <td>F</td>\n",
       "      <td>e0004</td>\n",
       "      <td>Technique Leader</td>\n",
       "      <td>53502.0</td>\n",
       "      <td>2</td>\n",
       "      <td>d005, d008</td>\n",
       "      <td>development, Research</td>\n",
       "      <td>1986-05-01</td>\n",
       "      <td>2</td>\n",
       "      <td>B</td>\n",
       "      <td>False</td>\n",
       "      <td>NaT</td>\n",
       "      <td>26.876712</td>\n",
       "      <td>54.712329</td>\n",
       "    </tr>\n",
       "    <tr>\n",
       "      <th>16729</th>\n",
       "      <td>41350</td>\n",
       "      <td>Olivera</td>\n",
       "      <td>Ratnakar</td>\n",
       "      <td>1953-12-09</td>\n",
       "      <td>F</td>\n",
       "      <td>e0001</td>\n",
       "      <td>Assistant Engineer</td>\n",
       "      <td>40352.0</td>\n",
       "      <td>1</td>\n",
       "      <td>d004</td>\n",
       "      <td>Production</td>\n",
       "      <td>1994-11-07</td>\n",
       "      <td>7</td>\n",
       "      <td>A</td>\n",
       "      <td>False</td>\n",
       "      <td>NaT</td>\n",
       "      <td>18.350685</td>\n",
       "      <td>59.290411</td>\n",
       "    </tr>\n",
       "    <tr>\n",
       "      <th>38751</th>\n",
       "      <td>43352</td>\n",
       "      <td>Luise</td>\n",
       "      <td>Schiettecatte</td>\n",
       "      <td>1964-09-02</td>\n",
       "      <td>F</td>\n",
       "      <td>e0003</td>\n",
       "      <td>Senior Engineer</td>\n",
       "      <td>43116.0</td>\n",
       "      <td>2</td>\n",
       "      <td>d004, d006</td>\n",
       "      <td>Production, Quality Management</td>\n",
       "      <td>1989-04-28</td>\n",
       "      <td>4</td>\n",
       "      <td>B</td>\n",
       "      <td>False</td>\n",
       "      <td>NaT</td>\n",
       "      <td>23.882192</td>\n",
       "      <td>48.550685</td>\n",
       "    </tr>\n",
       "    <tr>\n",
       "      <th>14857</th>\n",
       "      <td>411798</td>\n",
       "      <td>Abdelaziz</td>\n",
       "      <td>Zschoche</td>\n",
       "      <td>1957-01-28</td>\n",
       "      <td>M</td>\n",
       "      <td>e0001</td>\n",
       "      <td>Assistant Engineer</td>\n",
       "      <td>45064.0</td>\n",
       "      <td>1</td>\n",
       "      <td>d004</td>\n",
       "      <td>Production</td>\n",
       "      <td>1993-04-18</td>\n",
       "      <td>1</td>\n",
       "      <td>B</td>\n",
       "      <td>False</td>\n",
       "      <td>NaT</td>\n",
       "      <td>19.906849</td>\n",
       "      <td>56.150685</td>\n",
       "    </tr>\n",
       "    <tr>\n",
       "      <th>286684</th>\n",
       "      <td>295255</td>\n",
       "      <td>Jacopo</td>\n",
       "      <td>Bellone</td>\n",
       "      <td>1965-01-04</td>\n",
       "      <td>M</td>\n",
       "      <td>e0004</td>\n",
       "      <td>Technique Leader</td>\n",
       "      <td>42789.0</td>\n",
       "      <td>1</td>\n",
       "      <td>d004</td>\n",
       "      <td>Production</td>\n",
       "      <td>1988-03-13</td>\n",
       "      <td>9</td>\n",
       "      <td>C</td>\n",
       "      <td>False</td>\n",
       "      <td>NaT</td>\n",
       "      <td>25.008219</td>\n",
       "      <td>48.210959</td>\n",
       "    </tr>\n",
       "  </tbody>\n",
       "</table>\n",
       "</div>"
      ],
      "text/plain": [
       "        emp_no first_name      last_name birth_date sex emp_title_id  \\\n",
       "112074   50195    Zongyan        Waymire 1958-07-07   F        e0004   \n",
       "16729    41350    Olivera       Ratnakar 1953-12-09   F        e0001   \n",
       "38751    43352      Luise  Schiettecatte 1964-09-02   F        e0003   \n",
       "14857   411798  Abdelaziz       Zschoche 1957-01-28   M        e0001   \n",
       "286684  295255     Jacopo        Bellone 1965-01-04   M        e0004   \n",
       "\n",
       "                     title   salary  no_of_departments    dept_nos  \\\n",
       "112074    Technique Leader  53502.0                  2  d005, d008   \n",
       "16729   Assistant Engineer  40352.0                  1        d004   \n",
       "38751      Senior Engineer  43116.0                  2  d004, d006   \n",
       "14857   Assistant Engineer  45064.0                  1        d004   \n",
       "286684    Technique Leader  42789.0                  1        d004   \n",
       "\n",
       "                            dept_names  hire_date  no_of_projects  \\\n",
       "112074           development, Research 1986-05-01               2   \n",
       "16729                       Production 1994-11-07               7   \n",
       "38751   Production, Quality Management 1989-04-28               4   \n",
       "14857                       Production 1993-04-18               1   \n",
       "286684                      Production 1988-03-13               9   \n",
       "\n",
       "       Last_performance_rating   left last_date     tenure        age  \n",
       "112074                       B  False       NaT  26.876712  54.712329  \n",
       "16729                        A  False       NaT  18.350685  59.290411  \n",
       "38751                        B  False       NaT  23.882192  48.550685  \n",
       "14857                        B  False       NaT  19.906849  56.150685  \n",
       "286684                       C  False       NaT  25.008219  48.210959  "
      ]
     },
     "execution_count": 13,
     "metadata": {},
     "output_type": "execute_result"
    }
   ],
   "source": [
    "final_table['birth_date'] = pd.to_datetime(final_table['birth_date'])\n",
    "final_table['last_date'] = pd.to_datetime(final_table['last_date'])\n",
    "final_table['age'] = ((final_table['last_date'].fillna(max_last_date) - final_table['birth_date']).dt.days / 365\n",
    ")\n",
    "final_table.sample(5)"
   ]
  },
  {
   "cell_type": "code",
   "execution_count": 15,
   "id": "040645ba-eac6-4091-b9c2-d1c542ba5c56",
   "metadata": {},
   "outputs": [],
   "source": [
    "final_table['tenure'] = (final_table['tenure'] * 12).round().astype(int)"
   ]
  },
  {
   "cell_type": "code",
   "execution_count": 17,
   "id": "5c1cbf46-bc07-4931-9b4c-09269e8d4ff4",
   "metadata": {},
   "outputs": [
    {
     "data": {
      "text/plain": [
       "338"
      ]
     },
     "execution_count": 17,
     "metadata": {},
     "output_type": "execute_result"
    }
   ],
   "source": [
    "final_table.tenure.max()"
   ]
  },
  {
   "cell_type": "code",
   "execution_count": 19,
   "id": "026affe8-ac77-4931-a459-5eb452698244",
   "metadata": {},
   "outputs": [
    {
     "data": {
      "text/plain": [
       "16"
      ]
     },
     "execution_count": 19,
     "metadata": {},
     "output_type": "execute_result"
    }
   ],
   "source": [
    "final_table.tenure.min()"
   ]
  },
  {
   "cell_type": "code",
   "execution_count": 21,
   "id": "9db804f7-0fe8-4599-b9fe-a47b004e54aa",
   "metadata": {},
   "outputs": [
    {
     "data": {
      "image/png": "[encoded data removed]",
      "text/plain": [
       "<Figure size 640x480 with 1 Axes>"
      ]
     },
     "metadata": {},
     "output_type": "display_data"
    }
   ],
   "source": [
    "plt.hist(final_table['tenure'], bins=20, edgecolor='black')\n",
    "plt.xlabel(\"Tenure (Months)\")\n",
    "plt.ylabel(\"Frequency\")\n",
    "plt.title(\"Tenure Distribution\")\n",
    "plt.show()"
   ]
  },
  {
   "cell_type": "code",
   "execution_count": 23,
   "id": "39bb864a-c920-4713-80be-b3410cadc67e",
   "metadata": {},
   "outputs": [
    {
     "name": "stdout",
     "output_type": "stream",
     "text": [
      "Skewness: -1.4736073636020948\n"
     ]
    }
   ],
   "source": [
    "skewness = skew(final_table['tenure'])\n",
    "print(\"Skewness:\", skewness)"
   ]
  },
  {
   "cell_type": "code",
   "execution_count": 25,
   "id": "d72ab5db-0f48-4e20-be55-a409b614908b",
   "metadata": {},
   "outputs": [
    {
     "data": {
      "text/html": [
       "<div>\n",
       "<style scoped>\n",
       "    .dataframe tbody tr th:only-of-type {\n",
       "        vertical-align: middle;\n",
       "    }\n",
       "\n",
       "    .dataframe tbody tr th {\n",
       "        vertical-align: top;\n",
       "    }\n",
       "\n",
       "    .dataframe thead th {\n",
       "        text-align: right;\n",
       "    }\n",
       "</style>\n",
       "<table border=\"1\" class=\"dataframe\">\n",
       "  <thead>\n",
       "    <tr style=\"text-align: right;\">\n",
       "      <th></th>\n",
       "      <th>emp_no</th>\n",
       "      <th>first_name</th>\n",
       "      <th>last_name</th>\n",
       "      <th>birth_date</th>\n",
       "      <th>sex</th>\n",
       "      <th>emp_title_id</th>\n",
       "      <th>title</th>\n",
       "      <th>salary</th>\n",
       "      <th>no_of_departments</th>\n",
       "      <th>dept_nos</th>\n",
       "      <th>dept_names</th>\n",
       "      <th>hire_date</th>\n",
       "      <th>no_of_projects</th>\n",
       "      <th>Last_performance_rating</th>\n",
       "      <th>left</th>\n",
       "      <th>last_date</th>\n",
       "      <th>tenure</th>\n",
       "      <th>age</th>\n",
       "    </tr>\n",
       "  </thead>\n",
       "  <tbody>\n",
       "    <tr>\n",
       "      <th>226990</th>\n",
       "      <td>240988</td>\n",
       "      <td>Weidon</td>\n",
       "      <td>Flasterstein</td>\n",
       "      <td>1953-06-24</td>\n",
       "      <td>F</td>\n",
       "      <td>e0003</td>\n",
       "      <td>Senior Engineer</td>\n",
       "      <td>52688.0</td>\n",
       "      <td>1</td>\n",
       "      <td>d005</td>\n",
       "      <td>development</td>\n",
       "      <td>1988-10-22</td>\n",
       "      <td>10</td>\n",
       "      <td>C</td>\n",
       "      <td>False</td>\n",
       "      <td>NaT</td>\n",
       "      <td>293</td>\n",
       "      <td>60</td>\n",
       "    </tr>\n",
       "    <tr>\n",
       "      <th>237419</th>\n",
       "      <td>250469</td>\n",
       "      <td>Toong</td>\n",
       "      <td>Mullainathan</td>\n",
       "      <td>1964-05-09</td>\n",
       "      <td>M</td>\n",
       "      <td>e0004</td>\n",
       "      <td>Technique Leader</td>\n",
       "      <td>67906.0</td>\n",
       "      <td>1</td>\n",
       "      <td>d004</td>\n",
       "      <td>Production</td>\n",
       "      <td>1988-08-15</td>\n",
       "      <td>7</td>\n",
       "      <td>B</td>\n",
       "      <td>False</td>\n",
       "      <td>NaT</td>\n",
       "      <td>295</td>\n",
       "      <td>49</td>\n",
       "    </tr>\n",
       "    <tr>\n",
       "      <th>107906</th>\n",
       "      <td>496388</td>\n",
       "      <td>Sarita</td>\n",
       "      <td>Axelband</td>\n",
       "      <td>1952-09-01</td>\n",
       "      <td>M</td>\n",
       "      <td>e0002</td>\n",
       "      <td>Engineer</td>\n",
       "      <td>77721.0</td>\n",
       "      <td>1</td>\n",
       "      <td>d004</td>\n",
       "      <td>Production</td>\n",
       "      <td>1986-12-01</td>\n",
       "      <td>6</td>\n",
       "      <td>B</td>\n",
       "      <td>False</td>\n",
       "      <td>NaT</td>\n",
       "      <td>315</td>\n",
       "      <td>61</td>\n",
       "    </tr>\n",
       "    <tr>\n",
       "      <th>162762</th>\n",
       "      <td>100803</td>\n",
       "      <td>Noritoshi</td>\n",
       "      <td>Bernick</td>\n",
       "      <td>1957-12-27</td>\n",
       "      <td>F</td>\n",
       "      <td>s0002</td>\n",
       "      <td>Senior Staff</td>\n",
       "      <td>50253.0</td>\n",
       "      <td>1</td>\n",
       "      <td>d002</td>\n",
       "      <td>Finance</td>\n",
       "      <td>1995-06-13</td>\n",
       "      <td>3</td>\n",
       "      <td>S</td>\n",
       "      <td>False</td>\n",
       "      <td>NaT</td>\n",
       "      <td>213</td>\n",
       "      <td>55</td>\n",
       "    </tr>\n",
       "    <tr>\n",
       "      <th>116079</th>\n",
       "      <td>54200</td>\n",
       "      <td>Xudong</td>\n",
       "      <td>Bratten</td>\n",
       "      <td>1958-03-13</td>\n",
       "      <td>M</td>\n",
       "      <td>s0001</td>\n",
       "      <td>Staff</td>\n",
       "      <td>80636.0</td>\n",
       "      <td>1</td>\n",
       "      <td>d007</td>\n",
       "      <td>Sales</td>\n",
       "      <td>1988-04-26</td>\n",
       "      <td>7</td>\n",
       "      <td>B</td>\n",
       "      <td>False</td>\n",
       "      <td>NaT</td>\n",
       "      <td>299</td>\n",
       "      <td>55</td>\n",
       "    </tr>\n",
       "  </tbody>\n",
       "</table>\n",
       "</div>"
      ],
      "text/plain": [
       "        emp_no first_name     last_name birth_date sex emp_title_id  \\\n",
       "226990  240988     Weidon  Flasterstein 1953-06-24   F        e0003   \n",
       "237419  250469      Toong  Mullainathan 1964-05-09   M        e0004   \n",
       "107906  496388     Sarita      Axelband 1952-09-01   M        e0002   \n",
       "162762  100803  Noritoshi       Bernick 1957-12-27   F        s0002   \n",
       "116079   54200     Xudong       Bratten 1958-03-13   M        s0001   \n",
       "\n",
       "                   title   salary  no_of_departments dept_nos   dept_names  \\\n",
       "226990   Senior Engineer  52688.0                  1     d005  development   \n",
       "237419  Technique Leader  67906.0                  1     d004   Production   \n",
       "107906          Engineer  77721.0                  1     d004   Production   \n",
       "162762      Senior Staff  50253.0                  1     d002      Finance   \n",
       "116079             Staff  80636.0                  1     d007        Sales   \n",
       "\n",
       "        hire_date  no_of_projects Last_performance_rating   left last_date  \\\n",
       "226990 1988-10-22              10                       C  False       NaT   \n",
       "237419 1988-08-15               7                       B  False       NaT   \n",
       "107906 1986-12-01               6                       B  False       NaT   \n",
       "162762 1995-06-13               3                       S  False       NaT   \n",
       "116079 1988-04-26               7                       B  False       NaT   \n",
       "\n",
       "        tenure  age  \n",
       "226990     293   60  \n",
       "237419     295   49  \n",
       "107906     315   61  \n",
       "162762     213   55  \n",
       "116079     299   55  "
      ]
     },
     "execution_count": 25,
     "metadata": {},
     "output_type": "execute_result"
    }
   ],
   "source": [
    "final_table['age'] = final_table['age'].round().astype(int)\n",
    "final_table.sample(5)"
   ]
  },
  {
   "cell_type": "code",
   "execution_count": 27,
   "id": "5be28cda-f1c6-4fa0-a68d-e3630dfe640e",
   "metadata": {},
   "outputs": [
    {
     "data": {
      "text/plain": [
       "61"
      ]
     },
     "execution_count": 27,
     "metadata": {},
     "output_type": "execute_result"
    }
   ],
   "source": [
    "final_table.age.max()"
   ]
  },
  {
   "cell_type": "code",
   "execution_count": 29,
   "id": "371be747-af28-493a-9871-3ba868f83c4b",
   "metadata": {},
   "outputs": [
    {
     "data": {
      "text/plain": [
       "22"
      ]
     },
     "execution_count": 29,
     "metadata": {},
     "output_type": "execute_result"
    }
   ],
   "source": [
    "final_table.age.min()"
   ]
  },
  {
   "cell_type": "code",
   "execution_count": 31,
   "id": "59b79d6e-a3a0-468e-90c4-67dbd96e04cd",
   "metadata": {},
   "outputs": [
    {
     "data": {
      "image/png": "[encoded data removed]",
      "text/plain": [
       "<Figure size 640x480 with 1 Axes>"
      ]
     },
     "metadata": {},
     "output_type": "display_data"
    }
   ],
   "source": [
    "plt.hist(final_table['age'], bins=20, edgecolor='black')\n",
    "plt.xlabel(\"age\")\n",
    "plt.ylabel(\"Frequency\")\n",
    "plt.title(\"ageDistribution\")\n",
    "plt.show()"
   ]
  },
  {
   "cell_type": "code",
   "execution_count": 33,
   "id": "9d6360ad-4aca-4d5f-93a7-1bdfd2d467a9",
   "metadata": {},
   "outputs": [
    {
     "name": "stdout",
     "output_type": "stream",
     "text": [
      "Skewness: -1.5724469032098656\n"
     ]
    }
   ],
   "source": [
    "skewness = skew(final_table['age'])\n",
    "print(\"Skewness:\", skewness)"
   ]
  },
  {
   "cell_type": "code",
   "execution_count": 35,
   "id": "a31f88b4-97a3-42f4-886c-70ba79f9a6fe",
   "metadata": {},
   "outputs": [
    {
     "data": {
      "text/plain": [
       "emp_no                          0\n",
       "first_name                      0\n",
       "last_name                       0\n",
       "birth_date                      0\n",
       "sex                             0\n",
       "emp_title_id                    0\n",
       "title                           0\n",
       "salary                          0\n",
       "no_of_departments               0\n",
       "dept_nos                        0\n",
       "dept_names                      0\n",
       "hire_date                       0\n",
       "no_of_projects                  0\n",
       "Last_performance_rating         0\n",
       "left                            0\n",
       "last_date                  270157\n",
       "tenure                          0\n",
       "age                             0\n",
       "dtype: int64"
      ]
     },
     "execution_count": 35,
     "metadata": {},
     "output_type": "execute_result"
    }
   ],
   "source": [
    "final_table.isnull().sum()"
   ]
  },
  {
   "cell_type": "code",
   "execution_count": 37,
   "id": "27100309-30ff-48cc-a235-fa7f9670b6d0",
   "metadata": {},
   "outputs": [
    {
     "data": {
      "text/plain": [
       "0"
      ]
     },
     "execution_count": 37,
     "metadata": {},
     "output_type": "execute_result"
    }
   ],
   "source": [
    "final_table.duplicated().sum()"
   ]
  },
  {
   "cell_type": "code",
   "execution_count": 39,
   "id": "ad895267-455c-41fa-b8d9-4d12361ee58b",
   "metadata": {},
   "outputs": [],
   "source": [
    "final_table.to_excel('new_table1.xlsx',index=False)"
   ]
  },
  {
   "cell_type": "code",
   "execution_count": 193,
   "id": "d487abb4-caff-4335-9115-7b2b98d11e74",
   "metadata": {},
   "outputs": [],
   "source": [
    "final_table['left'] = final_table['left'].astype(int)"
   ]
  },
  {
   "cell_type": "code",
   "execution_count": null,
   "id": "d345a468-509b-4a68-9c35-65a19ed10b33",
   "metadata": {},
   "outputs": [],
   "source": []
  },
  {
   "cell_type": "code",
   "execution_count": 196,
   "id": "88a6cbe3-f8b8-416e-a805-19f68c7e521c",
   "metadata": {},
   "outputs": [
    {
     "data": {
      "text/plain": [
       "salary              -0.005035\n",
       "no_of_departments    0.000376\n",
       "no_of_projects       0.003164\n",
       "left                 1.000000\n",
       "tenure              -0.797822\n",
       "age                 -0.753562\n",
       "Name: left, dtype: float64"
      ]
     },
     "execution_count": 196,
     "metadata": {},
     "output_type": "execute_result"
    }
   ],
   "source": [
    "final_table_numeric = final_table.select_dtypes(include=['number'])  # Keep only numeric columns\n",
    "correlation_with_left = final_table_numeric.corr()['left']\n",
    "correlation_with_left"
   ]
  },
  {
   "cell_type": "code",
   "execution_count": 198,
   "id": "3eaf6196-064e-41ce-886f-43d409830db0",
   "metadata": {},
   "outputs": [],
   "source": [
    "x = final_table.drop(columns=['left'])\n",
    "\n",
    "y = final_table['left']"
   ]
  },
  {
   "cell_type": "code",
   "execution_count": 200,
   "id": "3ae52ac8-540d-4a65-98e6-e53cb931a82d",
   "metadata": {},
   "outputs": [],
   "source": [
    "x.drop(columns=['emp_no','first_name','last_name','emp_title_id','dept_nos','birth_date','last_date','hire_date'],inplace=True)"
   ]
  },
  {
   "cell_type": "code",
   "execution_count": 202,
   "id": "3eee8b39-0e03-496c-9e59-e8482d2f77aa",
   "metadata": {},
   "outputs": [
    {
     "name": "stdout",
     "output_type": "stream",
     "text": [
      "<class 'pandas.core.frame.DataFrame'>\n",
      "RangeIndex: 300024 entries, 0 to 300023\n",
      "Data columns (total 9 columns):\n",
      " #   Column                   Non-Null Count   Dtype  \n",
      "---  ------                   --------------   -----  \n",
      " 0   sex                      300024 non-null  object \n",
      " 1   title                    300024 non-null  object \n",
      " 2   salary                   300024 non-null  float64\n",
      " 3   no_of_departments        300024 non-null  int64  \n",
      " 4   dept_names               300024 non-null  object \n",
      " 5   no_of_projects           300024 non-null  int64  \n",
      " 6   Last_performance_rating  300024 non-null  object \n",
      " 7   tenure                   300024 non-null  int32  \n",
      " 8   age                      300024 non-null  int32  \n",
      "dtypes: float64(1), int32(2), int64(2), object(4)\n",
      "memory usage: 18.3+ MB\n"
     ]
    }
   ],
   "source": [
    "x.info()"
   ]
  },
  {
   "cell_type": "code",
   "execution_count": 204,
   "id": "ff8f9002-24c5-493d-a480-4f43e1e75227",
   "metadata": {},
   "outputs": [
    {
     "data": {
      "image/png": "[encoded data removed]",
      "text/plain": [
       "<Figure size 640x480 with 1 Axes>"
      ]
     },
     "metadata": {},
     "output_type": "display_data"
    }
   ],
   "source": [
    "sns.scatterplot(x=final_table['age'],y=final_table['left'])\n",
    "plt.show()"
   ]
  },
  {
   "cell_type": "code",
   "execution_count": null,
   "id": "12cc0b93-8225-4ce8-ad73-971052eee752",
   "metadata": {},
   "outputs": [],
   "source": []
  },
  {
   "cell_type": "markdown",
   "id": "e867ccca-8354-4e20-83b9-8be255dce481",
   "metadata": {},
   "source": [
    "## 4. Building the Model:"
   ]
  },
  {
   "cell_type": "code",
   "execution_count": 210,
   "id": "89507441-3174-472f-a8de-2308175eafc5",
   "metadata": {},
   "outputs": [
    {
     "name": "stdout",
     "output_type": "stream",
     "text": [
      "Important Features: ['cat__ordinal_tenure__tenure_category', 'cat__ordinal_age__age_group', 'cat__onehot_others__title_Senior Engineer', 'cat__onehot_others__title_Staff', 'cat__onehot_others__title_Senior Staff', 'cat__onehot_others__dept_names_Production, Customer Service', 'cat__onehot_others__dept_names_Quality Management', 'cat__onehot_others__title_Technique Leader', 'cat__onehot_others__dept_names_Production', 'cat__onehot_others__dept_names_development', 'cat__onehot_others__dept_names_Production, Quality Management', 'cat__onehot_others__dept_names_Marketing, Customer Service', 'cat__onehot_others__dept_names_Marketing, Sales', 'cat__onehot_others__dept_names_Production, development']\n"
     ]
    },
    {
     "data": {
      "image/png": "[encoded data removed]",
      "text/plain": [
       "<Figure size 800x600 with 1 Axes>"
      ]
     },
     "metadata": {},
     "output_type": "display_data"
    },
    {
     "data": {
      "image/png": "[encoded data removed]",
      "text/plain": [
       "<Figure size 800x600 with 1 Axes>"
      ]
     },
     "metadata": {},
     "output_type": "display_data"
    },
    {
     "name": "stdout",
     "output_type": "stream",
     "text": [
      "Accuracy: 0.9797516873593867\n",
      "Confusion Matrix:\n",
      " [[53066   948]\n",
      " [  267  5724]]\n",
      "Classification Report:\n",
      "               precision    recall  f1-score   support\n",
      "\n",
      "           0       0.99      0.98      0.99     54014\n",
      "           1       0.86      0.96      0.90      5991\n",
      "\n",
      "    accuracy                           0.98     60005\n",
      "   macro avg       0.93      0.97      0.95     60005\n",
      "weighted avg       0.98      0.98      0.98     60005\n",
      "\n",
      "ROC-AUC Score: 0.9908632727914646\n",
      "Precision-Recall AUC Score: 0.9239749480945876\n",
      "Fitting 5 folds for each of 20 candidates, totalling 100 fits\n"
     ]
    },
    {
     "data": {
      "image/png": "[encoded data removed]",
      "text/plain": [
       "<Figure size 800x600 with 1 Axes>"
      ]
     },
     "metadata": {},
     "output_type": "display_data"
    },
    {
     "data": {
      "image/png": "[encoded data removed]",
      "text/plain": [
       "<Figure size 800x600 with 1 Axes>"
      ]
     },
     "metadata": {},
     "output_type": "display_data"
    },
    {
     "name": "stdout",
     "output_type": "stream",
     "text": [
      "Best Parameters: {'model__solver': 'liblinear', 'model__penalty': 'l1', 'model__class_weight': None, 'model__C': 0.01}\n",
      "Accuracy: 0.9797516873593867\n",
      "Confusion Matrix:\n",
      " [[53066   948]\n",
      " [  267  5724]]\n",
      "Classification Report:\n",
      "               precision    recall  f1-score   support\n",
      "\n",
      "           0       0.99      0.98      0.99     54014\n",
      "           1       0.86      0.96      0.90      5991\n",
      "\n",
      "    accuracy                           0.98     60005\n",
      "   macro avg       0.93      0.97      0.95     60005\n",
      "weighted avg       0.98      0.98      0.98     60005\n",
      "\n",
      "ROC-AUC Score: 0.9907844851910244\n",
      "Precision-Recall AUC Score: 0.9256634087054032\n",
      "Cross-validation accuracy scores: [0.97948088 0.97914757 0.97935589 0.9787726  0.97825136]\n",
      "Mean accuracy: 0.9790016592423936\n"
     ]
    }
   ],
   "source": [
    "\n",
    "# Step 1: Split the Data\n",
    "X_train, X_test, y_train, y_test = train_test_split(x, y, test_size=0.2, random_state=42)\n",
    "\n",
    "# Step 2: Feature Engineering\n",
    "# Create tenure_category based on percentiles\n",
    "percentiles_app = X_train['tenure'].quantile([0, 0.25, 0.5, 0.75, 1]).tolist()\n",
    "X_train['tenure_category'] = pd.cut(X_train['tenure'], bins=percentiles_app, labels=['Low', 'Medium', 'High', 'Very High'], include_lowest=True)\n",
    "X_test['tenure_category'] = pd.cut(X_test['tenure'], bins=percentiles_app, labels=['Low', 'Medium', 'High', 'Very High'], include_lowest=True)\n",
    "\n",
    "# Create age_group based on bins\n",
    "bins = [20, 35, 50, float('inf')]\n",
    "labels = ['20-35', '35-50', '50+']\n",
    "X_train['age_group'] = pd.cut(X_train['age'], bins=bins, labels=labels, right=False)\n",
    "X_test['age_group'] = pd.cut(X_test['age'], bins=bins, labels=labels, right=False)\n",
    "\n",
    "# Step 3: Drop Unnecessary Columns\n",
    "columns_to_remove = ['tenure', 'age']\n",
    "X_train.drop(columns=columns_to_remove, inplace=True)\n",
    "X_test.drop(columns=columns_to_remove, inplace=True)\n",
    "\n",
    "# Step 4: Define the Preprocessing Pipeline\n",
    "# Identify categorical and numerical features\n",
    "categorical_features = ['Last_performance_rating', 'sex', 'dept_names', 'title', 'tenure_category', 'age_group']\n",
    "numerical_features = [col for col in X_train.columns if col not in categorical_features]\n",
    "\n",
    "# Preprocessing for categorical data\n",
    "categorical_transformer = ColumnTransformer(\n",
    "    transformers=[\n",
    "        ('ordinal', OrdinalEncoder(categories=[['PIP', 'C', 'B', 'S', 'A']]), ['Last_performance_rating']),\n",
    "        ('onehot_gender', OneHotEncoder(sparse_output=False, drop='first', categories=[['M', 'F']]), ['sex']),\n",
    "        ('onehot_others', OneHotEncoder(sparse_output=False, drop='first'), ['dept_names', 'title']),\n",
    "        ('ordinal_tenure', OrdinalEncoder(categories=[['Low', 'Medium', 'High', 'Very High']]), ['tenure_category']),\n",
    "        ('ordinal_age', OrdinalEncoder(categories=[['20-35', '35-50', '50+']]), ['age_group'])\n",
    "    ],\n",
    "    remainder='passthrough'\n",
    ")\n",
    "\n",
    "# Preprocessing for numerical data (scaling)\n",
    "numerical_transformer = StandardScaler()\n",
    "\n",
    "# Combine preprocessing steps\n",
    "transformer_app = ColumnTransformer(\n",
    "    transformers=[\n",
    "        ('cat', categorical_transformer, categorical_features),\n",
    "        ('num', numerical_transformer, numerical_features)\n",
    "    ]\n",
    ")\n",
    "\n",
    "# Step 5: Transform the Data\n",
    "X_train_transformed = transformer_app.fit_transform(X_train)\n",
    "X_test_transformed = transformer_app.transform(X_test)\n",
    "\n",
    "# Step 6: Create DataFrames from Transformed Data\n",
    "feature_names = transformer_app.get_feature_names_out()\n",
    "X_train_transformed_df = pd.DataFrame(X_train_transformed, columns=feature_names)\n",
    "X_test_transformed_df = pd.DataFrame(X_test_transformed, columns=feature_names)\n",
    "\n",
    "# Step 7: Resampling\n",
    "smote = SMOTE(sampling_strategy=0.5, random_state=42)\n",
    "undersampler = RandomUnderSampler(sampling_strategy=1.0, random_state=42)\n",
    "\n",
    "# Step 8: Train a Baseline Model for Feature Importance\n",
    "baseline_model = LogisticRegression(random_state=42, max_iter=1000)\n",
    "baseline_model.fit(X_train_transformed_df, y_train)\n",
    "\n",
    "# Step 9: Calculate Feature Importance (Absolute Coefficients)\n",
    "feature_importances = np.abs(baseline_model.coef_[0])  # Use absolute coefficients as importance\n",
    "importance_df = pd.DataFrame({'Feature': X_train_transformed_df.columns, 'Importance': feature_importances})\n",
    "importance_df = importance_df.sort_values(by='Importance', ascending=False)\n",
    "\n",
    "# Step 10: Filter Features Based on Importance\n",
    "threshold = 0.2  \n",
    "important_features_app = importance_df[importance_df['Importance'] > threshold]['Feature'].tolist()\n",
    "X_train_filtered = X_train_transformed_df[important_features_app]\n",
    "X_test_filtered = X_test_transformed_df[important_features_app]\n",
    "print('Important Features:', important_features_app)\n",
    "\n",
    "# Step 11: Define the Final Model\n",
    "model = LogisticRegression(random_state=42, max_iter=1000)\n",
    "\n",
    "# Step 12: Define the Resampling and Modeling Pipeline\n",
    "pipeline = ImbPipeline([\n",
    "    ('smote', smote),\n",
    "    ('undersampler', undersampler),\n",
    "    ('model', model)\n",
    "])\n",
    "\n",
    "set_config(display='diagram')\n",
    "pipeline\n",
    "\n",
    "# Step 13: Fit the Pipeline on Filtered Data\n",
    "pipeline.fit(X_train_filtered, y_train)\n",
    "\n",
    "# Step 14: Evaluate the Pipeline\n",
    "y_pred = pipeline.predict(X_test_filtered)\n",
    "y_pred_proba = pipeline.predict_proba(X_test_filtered)[:, 1]  # Probabilities for the positive class\n",
    "\n",
    "# Calculate ROC curve and AUC score\n",
    "fpr, tpr, thresholds = roc_curve(y_test, y_pred_proba)\n",
    "roc_auc = roc_auc_score(y_test, y_pred_proba)\n",
    "\n",
    "# Plot ROC curve\n",
    "plt.figure(figsize=(8, 6))\n",
    "plt.plot(fpr, tpr, color='blue', lw=2, label=f'ROC curve (AUC = {roc_auc:.2f})')\n",
    "plt.plot([0, 1], [0, 1], color='gray', lw=1, linestyle='--')\n",
    "plt.xlabel('False Positive Rate')\n",
    "plt.ylabel('True Positive Rate')\n",
    "plt.title('Receiver Operating Characteristic (ROC) Curve')\n",
    "plt.legend(loc='lower right')\n",
    "plt.show()\n",
    "\n",
    "# Calculate precision-recall curve and AUC\n",
    "precision, recall, _ = precision_recall_curve(y_test, y_pred_proba)\n",
    "pr_auc = auc(recall, precision)\n",
    "\n",
    "# Plot precision-recall curve\n",
    "plt.figure(figsize=(8, 6))\n",
    "plt.plot(recall, precision, color='blue', lw=2, label=f'Precision-Recall curve (AUC = {pr_auc:.2f})')\n",
    "plt.xlabel('Recall')\n",
    "plt.ylabel('Precision')\n",
    "plt.title('Precision-Recall Curve')\n",
    "plt.legend(loc='lower left')\n",
    "plt.show()\n",
    "\n",
    "print(\"Accuracy:\", accuracy_score(y_test, y_pred))\n",
    "print(\"Confusion Matrix:\\n\", confusion_matrix(y_test, y_pred))\n",
    "print(\"Classification Report:\\n\", classification_report(y_test, y_pred))\n",
    "print(\"ROC-AUC Score:\", roc_auc)\n",
    "print(\"Precision-Recall AUC Score:\", pr_auc)\n",
    "\n",
    "# Step 15: Hyperparameter Tuning\n",
    "param_grid = {\n",
    "    'model__C': [0.01, 0.1, 1, 10, 100],  # Inverse of regularization strength\n",
    "    'model__penalty': ['l1', 'l2'],  # Regularization type\n",
    "    'model__solver': ['liblinear'],  # Solver for logistic regression\n",
    "    'model__class_weight': [None, 'balanced']  # Class weights\n",
    "}\n",
    "\n",
    "random_search = RandomizedSearchCV(pipeline, param_distributions=param_grid, cv=5, verbose=2, n_jobs=-1, random_state=42, n_iter=20)\n",
    "random_search.fit(X_train_filtered, y_train)\n",
    "\n",
    "# Step 16: Evaluate the Best Model\n",
    "best_model_app = random_search.best_estimator_\n",
    "y_pred = best_model_app.predict(X_test_filtered)\n",
    "y_pred_proba = best_model_app.predict_proba(X_test_filtered)[:, 1]  # Probabilities for the positive class\n",
    "\n",
    "# Calculate ROC curve and AUC score for the best model\n",
    "fpr, tpr, thresholds = roc_curve(y_test, y_pred_proba)\n",
    "roc_auc = roc_auc_score(y_test, y_pred_proba)\n",
    "\n",
    "# Plot ROC curve for the best model\n",
    "plt.figure(figsize=(8, 6))\n",
    "plt.plot(fpr, tpr, color='blue', lw=2, label=f'ROC curve (AUC = {roc_auc:.2f})')\n",
    "plt.plot([0, 1], [0, 1], color='gray', lw=1, linestyle='--')\n",
    "plt.xlabel('False Positive Rate')\n",
    "plt.ylabel('True Positive Rate')\n",
    "plt.title('Receiver Operating Characteristic (ROC) Curve - Best Model')\n",
    "plt.legend(loc='lower right')\n",
    "plt.show()\n",
    "\n",
    "# Calculate precision-recall curve and AUC for the best model\n",
    "precision, recall, _ = precision_recall_curve(y_test, y_pred_proba)\n",
    "pr_auc = auc(recall, precision)\n",
    "\n",
    "# Plot precision-recall curve for the best model\n",
    "plt.figure(figsize=(8, 6))\n",
    "plt.plot(recall, precision, color='blue', lw=2, label=f'Precision-Recall curve (AUC = {pr_auc:.2f})')\n",
    "plt.xlabel('Recall')\n",
    "plt.ylabel('Precision')\n",
    "plt.title('Precision-Recall Curve - Best Model')\n",
    "plt.legend(loc='lower left')\n",
    "plt.show()\n",
    "\n",
    "print(\"Best Parameters:\", random_search.best_params_)\n",
    "print(\"Accuracy:\", accuracy_score(y_test, y_pred))\n",
    "print(\"Confusion Matrix:\\n\", confusion_matrix(y_test, y_pred))\n",
    "print(\"Classification Report:\\n\", classification_report(y_test, y_pred))\n",
    "print(\"ROC-AUC Score:\", roc_auc)\n",
    "print(\"Precision-Recall AUC Score:\", pr_auc)\n",
    "\n",
    "# Step 17: Cross-Validation\n",
    "cv_scores = cross_val_score(best_model_app, X_train_filtered, y_train, cv=5, scoring='accuracy')\n",
    "print(f\"Cross-validation accuracy scores: {cv_scores}\")\n",
    "print(f\"Mean accuracy: {cv_scores.mean()}\")"
   ]
  },
  {
   "cell_type": "code",
   "execution_count": null,
   "id": "a608aad6-d421-42ca-a5e6-da3717c98632",
   "metadata": {},
   "outputs": [],
   "source": []
  },
  {
   "cell_type": "markdown",
   "id": "bac3a416-054b-4ea9-bc25-74ce3d7080e4",
   "metadata": {},
   "source": [
    "## Save the model:"
   ]
  },
  {
   "cell_type": "code",
   "execution_count": 212,
   "id": "09cab162-24d0-4cda-b018-aa339184ae05",
   "metadata": {},
   "outputs": [
    {
     "name": "stdout",
     "output_type": "stream",
     "text": [
      "best_mode_app.joblib saved successfully.\n",
      "transformer_app.joblib saved successfully.\n",
      "important_features_app.joblib saved successfully.\n",
      "percentiles_app.joblib saved successfully.\n",
      "best_model_app.joblib exists.\n",
      "transformer_app.joblib exists.\n",
      "important_features_app.joblib exists.\n",
      "percentiles_app.joblib exists.\n"
     ]
    }
   ],
   "source": [
    "    import joblib\n",
    "    import os\n",
    "\n",
    "    # Ensure the variables are defined and not None\n",
    "    if best_model_app is not None:\n",
    "        joblib.dump(best_model_app, 'best_model_app.joblib')\n",
    "        print(\"best_mode_app.joblib saved successfully.\")\n",
    "    else:\n",
    "        print(\"best_model_app is None or not defined.\")\n",
    "    \n",
    "    if transformer_app is not None:\n",
    "        joblib.dump(transformer_app, 'transformer_app.joblib')\n",
    "        print(\"transformer_app.joblib saved successfully.\")\n",
    "    else:\n",
    "        print(\"transformer_app is None or not defined.\")\n",
    "    \n",
    "    if important_features_app is not None:\n",
    "        joblib.dump(important_features_app, 'important_features_app.joblib')\n",
    "        print(\"important_features_app.joblib saved successfully.\")\n",
    "    else:\n",
    "        print(\"important_features_app is None or not defined.\")\n",
    "    \n",
    "    if percentiles_app is not None:\n",
    "        joblib.dump(percentiles_app, 'percentiles_app.joblib')\n",
    "        print(\"percentiles_app.joblib saved successfully.\")\n",
    "    else:\n",
    "        print(\"percentiles_app is None or not defined.\")\n",
    "    \n",
    "    # Check if files were created\n",
    "    files = ['best_model_app.joblib', 'transformer_app.joblib', 'important_features_app.joblib', 'percentiles_app.joblib']\n",
    "    for file in files:\n",
    "        if os.path.exists(file):\n",
    "            print(f\"{file} exists.\")\n",
    "        else:\n",
    "            print(f\"{file} does not exist.\")"
   ]
  },
  {
   "cell_type": "code",
   "execution_count": null,
   "id": "c657e120-8b1c-471c-bbfe-60ae20d13496",
   "metadata": {},
   "outputs": [],
   "source": []
  },
  {
   "cell_type": "code",
   "execution_count": null,
   "id": "86735757-e969-4948-8cb6-e48dc1a690bc",
   "metadata": {},
   "outputs": [],
   "source": []
  },
  {
   "cell_type": "code",
   "execution_count": null,
   "id": "10bc14e4-859b-4c02-80e2-ac20770344f3",
   "metadata": {},
   "outputs": [],
   "source": []
  },
  {
   "cell_type": "code",
   "execution_count": null,
   "id": "c1540822-24ca-43e2-bd3f-62aaf6d88f18",
   "metadata": {},
   "outputs": [],
   "source": []
  },
  {
   "cell_type": "code",
   "execution_count": null,
   "id": "e802d642-edf3-4177-ac97-4c340e2628f4",
   "metadata": {},
   "outputs": [],
   "source": []
  },
  {
   "cell_type": "code",
   "execution_count": null,
   "id": "df7c4c7f-e3b8-4dd5-91ae-321802b98edc",
   "metadata": {},
   "outputs": [],
   "source": []
  },
  {
   "cell_type": "code",
   "execution_count": null,
   "id": "3e5ef8be-805f-4efb-88b4-05fabed3e6c1",
   "metadata": {},
   "outputs": [],
   "source": []
  },
  {
   "cell_type": "code",
   "execution_count": null,
   "id": "71df6d15-6a88-43dd-b875-8d503609ba7d",
   "metadata": {},
   "outputs": [],
   "source": []
  },
  {
   "cell_type": "code",
   "execution_count": null,
   "id": "2a0d32cf-fdc7-4a75-96c1-f6ee74fcd9cb",
   "metadata": {},
   "outputs": [],
   "source": []
  },
  {
   "cell_type": "code",
   "execution_count": null,
   "id": "6d2737ff-f3b1-47a0-9c65-e8bb35314aba",
   "metadata": {},
   "outputs": [],
   "source": []
  },
  {
   "cell_type": "code",
   "execution_count": null,
   "id": "5f2c2b3b-0bb0-4f62-983c-5a211346eaa0",
   "metadata": {},
   "outputs": [],
   "source": []
  },
  {
   "cell_type": "code",
   "execution_count": null,
   "id": "216e340f-b889-4d32-aec7-64ab4925e38f",
   "metadata": {},
   "outputs": [],
   "source": []
  },
  {
   "cell_type": "code",
   "execution_count": null,
   "id": "c5ebced9-4470-4f11-990d-548409450b53",
   "metadata": {},
   "outputs": [],
   "source": []
  },
  {
   "cell_type": "code",
   "execution_count": null,
   "id": "07c74660-abee-4c1b-85da-37866aec05c0",
   "metadata": {},
   "outputs": [],
   "source": []
  },
  {
   "cell_type": "code",
   "execution_count": null,
   "id": "6de93946-ff2d-4c82-a07f-6f5083ab2388",
   "metadata": {},
   "outputs": [],
   "source": []
  },
  {
   "cell_type": "code",
   "execution_count": null,
   "id": "952a28b3-a02b-4a62-83b9-f908e2a8ecc4",
   "metadata": {},
   "outputs": [],
   "source": []
  },
  {
   "cell_type": "code",
   "execution_count": null,
   "id": "2066bab2-1642-4e43-b0bf-2fc1ebfe34c4",
   "metadata": {},
   "outputs": [],
   "source": []
  },
  {
   "cell_type": "code",
   "execution_count": null,
   "id": "ac0e7098-8d3a-4d8d-ad70-3969ee68a17a",
   "metadata": {},
   "outputs": [],
   "source": []
  },
  {
   "cell_type": "code",
   "execution_count": null,
   "id": "ff1b3d01-0e1d-4682-a9fb-6cc775c6d1ac",
   "metadata": {},
   "outputs": [],
   "source": []
  }
 ],
 "metadata": {
  "kernelspec": {
   "display_name": "Python [conda env:base] *",
   "language": "python",
   "name": "conda-base-py"
  },
  "language_info": {
   "codemirror_mode": {
    "name": "ipython",
    "version": 3
   },
   "file_extension": ".py",
   "mimetype": "text/x-python",
   "name": "python",
   "nbconvert_exporter": "python",
   "pygments_lexer": "ipython3",
   "version": "3.12.3"
  }
 },
 "nbformat": 4,
 "nbformat_minor": 5
}
